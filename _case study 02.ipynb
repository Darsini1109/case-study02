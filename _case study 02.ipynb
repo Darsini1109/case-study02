{
 "cells": [
  {
   "cell_type": "code",
   "execution_count": 3,
   "id": "6723a821",
   "metadata": {},
   "outputs": [
    {
     "name": "stdout",
     "output_type": "stream",
     "text": [
      "The sum of my_list is 34\n"
     ]
    }
   ],
   "source": [
    "#1,Write a Python function to sum all the numbers in a list.\n",
    "def sum_of_list(l):\n",
    "  total = 0\n",
    "  for val in l:\n",
    "    total = total + val\n",
    "  return total\n",
    "\n",
    "my_list = [14,4,5,2,9]\n",
    "print(\"The sum of my_list is\", sum_of_list(my_list))"
   ]
  },
  {
   "cell_type": "code",
   "execution_count": 17,
   "id": "15d192be",
   "metadata": {},
   "outputs": [
    {
     "name": "stdout",
     "output_type": "stream",
     "text": [
      "Enter string:86768\n",
      "String is a palindrome!\n"
     ]
    }
   ],
   "source": [
    "#2,Write a Python function that checks whether a passed string is palindrome or not.\n",
    "def is_palindrome(s):\n",
    "    if len(s) < 1:\n",
    "        return True\n",
    "    else:\n",
    "        if s[0] == s[-1]:\n",
    "            return is_palindrome(s[1:-1])\n",
    "        else:\n",
    "            return False\n",
    "a=str(input(\"Enter string:\"))\n",
    "if(is_palindrome(a)==True):\n",
    "    print(\"String is a palindrome!\")\n",
    "else:\n",
    "    print(\"String isn't a palindrome!\")"
   ]
  },
  {
   "cell_type": "code",
   "execution_count": 20,
   "id": "07317d75",
   "metadata": {},
   "outputs": [
    {
     "name": "stdout",
     "output_type": "stream",
     "text": [
      "Fibonacci sequence:\n",
      "0\n",
      "1\n",
      "1\n",
      "2\n",
      "3\n",
      "5\n",
      "8\n",
      "13\n",
      "21\n",
      "34\n"
     ]
    }
   ],
   "source": [
    "3#Python recursive function to find the Fibonacci series\n",
    "\n",
    "def recur_fibo(n):\n",
    "   if n <= 1:\n",
    "       return n\n",
    "   else:\n",
    "       return(recur_fibo(n-1) + recur_fibo(n-2))\n",
    "\n",
    "nterms = 10\n",
    "\n",
    "if nterms <= 0:\n",
    "   print(\"Plese enter a positive integer\")\n",
    "else:\n",
    "   print(\"Fibonacci sequence:\")\n",
    "   for i in range(nterms):\n",
    "       print(recur_fibo(i))\n"
   ]
  },
  {
   "cell_type": "code",
   "execution_count": 22,
   "id": "aa02ea31",
   "metadata": {},
   "outputs": [
    {
     "name": "stdout",
     "output_type": "stream",
     "text": [
      "Enter the Number: \n",
      "7\n",
      "\n",
      "Table of 7 is:\n",
      "7 * 1 = 7\n",
      "7 * 2 = 14\n",
      "7 * 3 = 21\n",
      "7 * 4 = 28\n",
      "7 * 5 = 35\n",
      "7 * 6 = 42\n",
      "7 * 7 = 49\n",
      "7 * 8 = 56\n",
      "7 * 9 = 63\n",
      "7 * 10 = 70\n"
     ]
    }
   ],
   "source": [
    "#4.recursive function to print the multiplication table\n",
    "\n",
    "def tab_rec_fun(n, i):\n",
    "    if(i>10):\n",
    "        return\n",
    "    print(n, \"*\", i, \"=\", n*i)\n",
    "    return tab_rec_fun(n, i+1)\n",
    "\n",
    "print(\"Enter the Number: \")\n",
    "num = int(input())\n",
    "print(\"\\nTable of\", num, \"is:\")\n",
    "tab_rec_fun(num, 1)"
   ]
  },
  {
   "cell_type": "code",
   "execution_count": 23,
   "id": "583fb498",
   "metadata": {},
   "outputs": [
    {
     "name": "stdout",
     "output_type": "stream",
     "text": [
      "Please Enter Your Own String : heera\n",
      "Total Number of Vowels in this String =  3\n",
      "Total Number of Consonants in this String =  2\n"
     ]
    }
   ],
   "source": [
    "#5.a function which counts vowels and consonant in a word.\n",
    "\n",
    "str1 = input(\"Please Enter Your Own String : \")\n",
    "vowels = 0\n",
    "consonants = 0\n",
    "\n",
    "for i in str1:\n",
    "    if(i == 'a' or i == 'e' or i == 'i' or i == 'o' or i == 'u'\n",
    "       or i == 'A' or i == 'E' or i == 'I' or i == 'O' or i == 'U'):\n",
    "        vowels = vowels + 1\n",
    "    else:\n",
    "        consonants = consonants + 1\n",
    " \n",
    "print(\"Total Number of Vowels in this String = \", vowels)\n",
    "print(\"Total Number of Consonants in this String = \", consonants)"
   ]
  },
  {
   "cell_type": "code",
   "execution_count": 27,
   "id": "3fe678d5",
   "metadata": {},
   "outputs": [
    {
     "name": "stdout",
     "output_type": "stream",
     "text": [
      "No. of Upper case characters : 2,No. of Lower case characters : 73\n"
     ]
    }
   ],
   "source": [
    "#6.a function that accepts lowercase words and returns uppercase words.\n",
    "\n",
    "def up_low(s):      \n",
    "    u = sum(1 for i in s if i.isupper())\n",
    "    l = sum(1 for i in s if i.islower())\n",
    "    print( \"No. of Upper case characters : %s,No. of Lower case characters : %s\" % (u,l))\n",
    "\n",
    "up_low(\"The effects of global warming push European leaders to find alternatives to fossil fuels.\")"
   ]
  },
  {
   "cell_type": "code",
   "execution_count": 28,
   "id": "c5eae694",
   "metadata": {},
   "outputs": [
    {
     "name": "stdout",
     "output_type": "stream",
     "text": [
      "Original list:\n",
      "[12, 0, None, 23, None, -55, 234, 89, None, 0, 6, -12]\n",
      "\n",
      "Remove None value from the said list:\n",
      "[12, 0, 23, -55, 234, 89, 0, 6, -12]\n"
     ]
    }
   ],
   "source": [
    "#7.program to remove ‘None’ values from a given list using the lambda function.\n",
    "\n",
    "def remove_none(nums):\n",
    "    result = filter(lambda v: v is not None, nums)\n",
    "    return list(result)\n",
    "\n",
    "nums = [12, 0, None, 23, None, -55, 234, 89, None, 0, 6, -12]\n",
    "print(\"Original list:\")\n",
    "print(nums)\n",
    "print(\"\\nRemove None value from the said list:\")\n",
    "print(remove_none(nums))"
   ]
  },
  {
   "cell_type": "code",
   "execution_count": 33,
   "id": "85d80efd",
   "metadata": {},
   "outputs": [
    {
     "name": "stdout",
     "output_type": "stream",
     "text": [
      "Perimeter of rectangle is: \n",
      "Area of rectangle is: \n",
      "18\n",
      "20\n"
     ]
    }
   ],
   "source": [
    "#8.\n",
    "#a,Create a Perimeter() method to calculate the perimeter of therectangle and a Area() method to calculate the area of the rectangle.\n",
    "a=c=5 \n",
    "b=d=4   \n",
    "Perimeter = 2*(a+ b)\n",
    "Area = (a*b)\n",
    "print(\"Perimeter of rectangle is: \");\n",
    "print(\"Area of rectangle is: \");  \n",
    "print(Perimeter);\n",
    "print(Area);\n"
   ]
  },
  {
   "cell_type": "code",
   "execution_count": 33,
   "id": "a2888ffa",
   "metadata": {},
   "outputs": [
    {
     "name": "stdout",
     "output_type": "stream",
     "text": [
      "Perimeter of rectangle is: \n",
      "Area of rectangle is: \n",
      "18\n",
      "20\n"
     ]
    }
   ],
   "source": [
    "#8.\n",
    "#a,Create a Perimeter() method to calculate the perimeter of therectangle and a Area() method to calculate the area of the rectangle.\n",
    "a=c=5 \n",
    "b=d=4   \n",
    "Perimeter = 2*(a+ b)\n",
    "Area = (a*b)\n",
    "print(\"Perimeter of rectangle is: \");\n",
    "print(\"Area of rectangle is: \");  \n",
    "print(Perimeter);\n",
    "print(Area);\n"
   ]
  },
  {
   "cell_type": "code",
   "execution_count": 35,
   "id": "099ca381",
   "metadata": {},
   "outputs": [
    {
     "name": "stdout",
     "output_type": "stream",
     "text": [
      "Length of rectangle is: \n",
      "Width of rectangle is: \n",
      "Perimeter of rectangle is: \n",
      "Area of rectangle is: \n",
      "5\n",
      "4\n",
      "18\n",
      "20\n"
     ]
    }
   ],
   "source": [
    "#8\n",
    "#b.Create a method display() that display the length, width, perimeter and area of an object created using an instantiation on rectangleclass.\n",
    "Length=a=c=5 \n",
    "Width=b=d=4   \n",
    "Perimeter = 2*(a+ b)\n",
    "Area = (a*b)\n",
    "print(\"Length of rectangle is: \");\n",
    "print(\"Width of rectangle is: \");\n",
    "print(\"Perimeter of rectangle is: \");\n",
    "print(\"Area of rectangle is: \");\n",
    "print(Length);\n",
    "print(Width);\n",
    "print(Perimeter);\n",
    "print(Area)"
   ]
  },
  {
   "cell_type": "code",
   "execution_count": 40,
   "id": "e63f3ded",
   "metadata": {},
   "outputs": [
    {
     "name": "stdout",
     "output_type": "stream",
     "text": [
      "The length of rectangle is:  14\n",
      "The width of rectangle is:  8\n",
      "The perimeter of rectangle is:  44\n",
      "The area of rectangle is:  112\n",
      "----------------------------------\n",
      "the volume of myParallelepipede is:  256\n"
     ]
    }
   ],
   "source": [
    "#8c,Rectangle,area,Parallelepiped,volume\n",
    "\n",
    "class Rectangle:\n",
    "\n",
    "    def __init__(self, length , width):\n",
    "        self.length = length\n",
    "        self.width = width\n",
    "        \n",
    "    def Perimeter(self):\n",
    "        return 2*(self.length + self.width)\n",
    "    \n",
    "    def Area(self):\n",
    "        return self.length*self.width   \n",
    "    \n",
    "    def display(self):\n",
    "        print(\"The length of rectangle is: \", self.length)\n",
    "        print(\"The width of rectangle is: \", self.width)\n",
    "        print(\"The perimeter of rectangle is: \", self.Perimeter())\n",
    "        print(\"The area of rectangle is: \", self.Area())\n",
    "class Parallelepipede(Rectangle):\n",
    "    def __init__(self, length, width , height):\n",
    "        Rectangle.__init__(self, length, width)\n",
    "        self.height = height\n",
    "        \n",
    "    def volume(self):\n",
    "        return self.length*self.width*self.height\n",
    "        \n",
    "myRectangle = Rectangle(14 , 8)\n",
    "myRectangle.display()\n",
    "print(\"----------------------------------\")\n",
    "myParallelepipede = Parallelepipede(16 , 8 , 2)\n",
    "print(\"the volume of myParallelepipede is: \" , myParallelepipede.volume())"
   ]
  },
  {
   "cell_type": "code",
   "execution_count": 65,
   "id": "8531ae59",
   "metadata": {},
   "outputs": [
    {
     "name": "stdout",
     "output_type": "stream",
     "text": [
      "siva\n",
      "500.0\n"
     ]
    }
   ],
   "source": [
    "#9,a.create a bank account using consructors:\n",
    "\n",
    "class BankAccount:\n",
    "    def __init__(self, accountNumber, name, balance):\n",
    "        self.accountNumber = accountNumber\n",
    "        self.name = name\n",
    "        self.balance = balance\n",
    "siva_account = BankAccount(564, \"siva\", 500.00)\n",
    "print(siva_account.name) \n",
    "print(siva_account.balance) \n"
   ]
  },
  {
   "cell_type": "code",
   "execution_count": 75,
   "id": "3584bb5d",
   "metadata": {},
   "outputs": [
    {
     "name": "stdout",
     "output_type": "stream",
     "text": [
      "siva\n",
      "500.0\n",
      "1000.0\n",
      "1500.0\n"
     ]
    }
   ],
   "source": [
    "#9,b. a Deposit() method which manages the deposit actions\n",
    "class BankAccount:\n",
    "    def __init__(self, accountNumber, name, balance, amount_deposited,total_balance):\n",
    "        self.accountNumber = accountNumber\n",
    "        self.name = name\n",
    "        self.balance = balance\n",
    "        self.amount_deposited = amount_deposited\n",
    "        self.total_balance = total_balance\n",
    "siva_account = BankAccount(564, \"siva\", 500.00, 1000.00, 1500.00)\n",
    "print(siva_account.name) \n",
    "print(siva_account.balance) \n",
    "print(siva_account.amount_deposited) \n",
    "print(siva_account.total_balance) "
   ]
  },
  {
   "cell_type": "code",
   "execution_count": 5,
   "id": "56c25649",
   "metadata": {},
   "outputs": [],
   "source": [
    "#9,c.a Withdrawal() method which manages with drawals actions:"
   ]
  },
  {
   "cell_type": "code",
   "execution_count": null,
   "id": "d8e34dc8",
   "metadata": {},
   "outputs": [],
   "source": []
  }
 ],
 "metadata": {
  "kernelspec": {
   "display_name": "Python 3 (ipykernel)",
   "language": "python",
   "name": "python3"
  },
  "language_info": {
   "codemirror_mode": {
    "name": "ipython",
    "version": 3
   },
   "file_extension": ".py",
   "mimetype": "text/x-python",
   "name": "python",
   "nbconvert_exporter": "python",
   "pygments_lexer": "ipython3",
   "version": "3.9.7"
  }
 },
 "nbformat": 4,
 "nbformat_minor": 5
}
